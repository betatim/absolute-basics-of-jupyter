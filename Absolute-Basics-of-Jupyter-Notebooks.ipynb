{
 "cells": [
  {
   "cell_type": "markdown",
   "metadata": {},
   "source": [
    "# The Absolute Basics of Jupyter Notebooks\n",
    "### By Scott Carlson, with acknowledgement to the work of [Abdullah Alrasheed](https://github.com/TwistedHardware/mltutorial) and his gracious GNU License"
   ]
  },
  {
   "cell_type": "markdown",
   "metadata": {},
   "source": [
    "# 1) The Intros\n",
    "Jupyter is an web-based, interactive development environment. It supports multiple programming languages like Julia, Python and R (in alphabetical order).\n",
    "\n",
    "<img src=\"https://kenophobio.github.io/images/jupyter-main-logo.png\" style=\"width:50%; height:50%\">"
   ]
  },
  {
   "cell_type": "markdown",
   "metadata": {},
   "source": [
    "## Why is it called Jupyter?\n",
    "\n",
    "Originally called IPython, the project provided an enhanced command-line console to run your Python code interactively.\n",
    "\n",
    "Jupyter Notebooks are a newer, more sophisticated alternative to IPython that moves toward platform with multiple languages.\n",
    "\n",
    "In Jupyter, \"Notebooks\" denote documents that contain both computer code and rich text elements, such as paragraphs, figures, links, and equations, making them both human-readable documents as well as executable code documents to perform data analysis.\n",
    "\n",
    "### *JU*lia + *PY*Thon + *R* = JUPYTER\n",
    "\n",
    "This is not to indicate that Jupyter only supports these languages... The complete list has more than [100 different languages](https://github.com/jupyter/jupyter/wiki/Jupyter-kernels), making it largely **language-agnostic**."
   ]
  },
  {
   "cell_type": "markdown",
   "metadata": {},
   "source": [
    "### But there is another reason...\n",
    "\n",
    "Galileo documented observations about Jupiter's moons and published them in Sidereus Nuncius (Starry Messenger), a pamphlet, in 1610. This was the first published astronomy paper that used observations using a telescope, which implicitly (but not explicitly) proved the Copernican system of a sun, not the Earth, which other celestial bodies revolved around.\n",
    "<br />\n",
    "> \"I therefore concluded and decided unhesitatingly, that there are three stars in the heavens moving about Jupiter, as Venus and Mercury round the Sun; which at length was established as clear as daylight by numerous subsequent observations. These observations also established that there are not only three, but four, erratic sidereal bodies performing their revolutions round Jupiter...the revolutions are so swift that an observer may generally get differences of position every hour.\"\n",
    ">\n",
    "> Galileo Galilei\n",
    "\n",
    "<br />\n",
    "<img src=\"http://upload.wikimedia.org/wikipedia/commons/d/d0/Sidereus_Nuncius_Medicean_Stars.jpg\">\n",
    "<br />\n",
    "<center>Image courtesy of the History of Science Collections, University of Oklahoma Libraries.</center>\n",
    "\n",
    "Sharing these observations and conclusions in a way that can be replicated and verified inspired the modern scientific method. This is the essence of a Jupyter Notebook: sharing a complete process with others to verify and replicate results."
   ]
  },
  {
   "cell_type": "markdown",
   "metadata": {},
   "source": [
    "# All right, how do I get these Notebooks?\n",
    "\n",
    "You can either install Jupyter locally, or use a cloud-hosted system somewhere else. let's look at both!\n",
    "\n",
    "## Local\n",
    "\n",
    "[Jupyter's web documentation](http://jupyter.org/install) has a good start up guide to newbies. You'll certainly need Python (either version 2.7 or 3.3 or greater). Jupyter recommends installing it through the [Anaconda Distribution](https://www.anaconda.com/download/) which will deposit a bunhc of useful stuff, not the least lof which is the Jupyter Notebook app!\n",
    "\n",
    "Once installed, you can start Jupyter from the command line:\n",
    "<br />\n",
    "![command line](c-l.png)\n",
    "<br />\n",
    "This will launch a new browser window showing the Notebook Dashboard, a control panel that allows you to (among other things) select which notebook to open, or start a new one.\n",
    "<br />\n",
    "![dash](dashboard.png)\n",
    "## Cloud-Hosted\n",
    "\n",
    "There are places online that will let you work on Notebooks using cloud apps -- the Jupyter project has a Try Jupyter page that will let you test-drive the app in Python, R and Julia:\n",
    "\n",
    "![try](try.png)\n",
    "\n",
    "My favorite, though, is [PythonAnywhere](https://www.pythonanywhere.com), which is a cloud-based host for running Python kernels. It costs five bucks a month, but if you don't want to deal with a local installation, it's pretty much the exact same thing."
   ]
  },
  {
   "cell_type": "markdown",
   "metadata": {},
   "source": [
    "# When You Finally Get Jupyter...\n",
    "\n",
    "Whether you locally run it or use a cloud service, the basic elements of Jupyter are the same. Jupyter saves notebooks as files with the **.ipynb extension**. This notebook file is really just a plain text file storing JSON data:\n",
    "\n",
    "```\n",
    "{\n",
    " \"cells\": [\n",
    "  {\n",
    "   \"cell_type\": \"markdown\",\n",
    "   \"metadata\": {},\n",
    "   \"source\": [\n",
    "    \"# IPython 3 (jupyter)\\n\",\n",
    "    \"\\n\",\n",
    "    \"**Video Toturial:** https://www.youtube.com/user/roshanRush\\n\",\n",
    "    \"\\n\",\n",
    "    \"Jupyter is an web-based interactive development environment. It support multiple programming languages like Julia, Octave, Python and R (In alphabetical order).\"\n",
    "   ]...\n",
    "```\n",
    "\n",
    "Meanwhile, a **kernel** is the process running the Notebook file session, and covers the code language (Python, R, etc). The kernel receives your bits of code from the Notebook, executes them, and sends the outputs and possible errors back to the  interface.\n",
    "<br />\n",
    "![notebook_components.png](notebook_components.png)\n",
    "<br />\n",
    "A notebook is persistent (because it's a file), whereas a kernel may be closed at the end of an interactive session and it is therefore not persistent. When a notebook is re-opened, it needs to be re-executed.\n",
    "\n",
    "The Jupyter Dashboard contains several tabs covering these concepts:\n",
    "- Files: shows all files and notebooks in the current directory\n",
    "- Running: shows all kernels currently running on your computer\n",
    "- Clusters: lets you launch kernels for parallel computing"
   ]
  },
  {
   "cell_type": "markdown",
   "metadata": {},
   "source": [
    "# 2) Let's Jump in!\n",
    "\n",
    "## Go ahead and double click this text to see what happens.\n",
    "\n"
   ]
  },
  {
   "cell_type": "markdown",
   "metadata": {},
   "source": [
    "## What happened? Hopefully this:\n",
    "![Hopefully this](cell.png)"
   ]
  },
  {
   "cell_type": "markdown",
   "metadata": {
    "collapsed": true
   },
   "source": [
    "What's happening? Well, the structure of a Notebook is a series of cells, not unlike a single-column spreadsheet.\n",
    "\n",
    "Each cell has (primarily) one of two functions: **running code** and **displaying text**.\n",
    "\n",
    "When you double-clicked the text, what you actually saw is the underlying, encoded text inside that cell. It's actually a type of encoding called **Markdown**. You might be familiar with Markdown if you've ever used Github or Jekyll -- it's a simple way to format text like *italicizing* (which is coded as ```*italicizing*```) or ~~scratched text~~ (which is coded as ```~~scratched text~~```). A good list of Markdown coding can be found [here](https://github.com/TwistedHardware/mltutorial/blob/master/notebooks/jupyter/2.%20Markdown%20%26%20LaTeX.ipynb).\n",
    "\n",
    "Because Jupyter is used for displaying code and skews heavily toward math and statistics, they've also included [LaTeX](https://en.wikibooks.org/wiki/LaTeX/Mathematics), which is coding to show mathematical forumals:\n",
    "<br />\n",
    "<center>$y = x^2$</center>\n",
    "<br />\n",
    "<center>is coded as</center>\n",
    "<br />\n",
    "<center>```$y = x^2$```</center>\n",
    "<br />\n",
    "You can always change the mode of the cell in the toolbar above the notebook:\n",
    "<br />\n",
    "![mode.png](mode.png)\n",
    "<br />\n",
    "Shall we move on to coding?\n",
    "\n",
    "## Running Code in a Notebook\n",
    "\n",
    "*Note: the examples used here are Python, the code I work most with. If you need a refresher on Python or are completely new to it, there are literally a metric ton of them out there to get you started! In fact, you can learn Python from [this particular Jupyter Notebook!](http://nbviewer.jupyter.org/urls/bitbucket.org/amjoconn/watpy-learning-to-code-with-python/raw/3441274a54c7ff6ff3e37285aafcbbd8cb4774f0/notebook/Learn%20to%20Code%20with%20Python.ipynb)*\n",
    "\n",
    "Let's try a simple \"Hello, World\" command using the print function. Click on the cell below to highlight it, then click the RUN button on the toolbar."
   ]
  },
  {
   "cell_type": "code",
   "execution_count": null,
   "metadata": {
    "collapsed": false
   },
   "outputs": [],
   "source": [
    "print(\"Hello, world!\")"
   ]
  },
  {
   "cell_type": "markdown",
   "metadata": {
    "collapsed": true
   },
   "source": [
    "See how the result prints underneath the cell? The Notebook is simply reproducing the effects of a Python interpreter (like iDLE), because -- well, because the kernel IS a Python interpreter.\n",
    "\n",
    "![inter](interp.png)\n",
    "<br />\n"
   ]
  },
  {
   "cell_type": "code",
   "execution_count": null,
   "metadata": {
    "collapsed": false
   },
   "outputs": [],
   "source": [
    "some_variable = \"Hello world!\"\n",
    "some_variable"
   ]
  },
  {
   "cell_type": "markdown",
   "metadata": {},
   "source": [
    "![interp2.png](interp2.png)\n",
    "<br />\n",
    "You can do for loops too:"
   ]
  },
  {
   "cell_type": "code",
   "execution_count": null,
   "metadata": {
    "collapsed": false
   },
   "outputs": [],
   "source": [
    "for counter in [1,2,3,4]:\n",
    "    print(counter)"
   ]
  },
  {
   "cell_type": "markdown",
   "metadata": {
    "collapsed": true
   },
   "source": [
    "And, naturally, defining functions! The code below defines a Python function to find the circumference of a circle with a radius of *r*:"
   ]
  },
  {
   "cell_type": "code",
   "execution_count": null,
   "metadata": {
    "collapsed": false
   },
   "outputs": [],
   "source": [
    "import math\n",
    "def get_circumference(r):\n",
    "    return math.pi * r ** 2\n",
    "\n",
    "get_circumference(5)"
   ]
  },
  {
   "cell_type": "markdown",
   "metadata": {},
   "source": [
    "And, just like any Python interpreter, you can call libraries! But beware, even though Anaconda's Jupyter distribution comes bundled with a ton of stuff pertinent to data science and stats, not everything comes with it. If you hope to distribute or review a Notebook, make sure you have all the libraries you need installed:"
   ]
  },
  {
   "cell_type": "code",
   "execution_count": null,
   "metadata": {
    "collapsed": false
   },
   "outputs": [],
   "source": [
    "import deunicode"
   ]
  },
  {
   "cell_type": "markdown",
   "metadata": {},
   "source": [
    "What happened there? Well, the library \"deunicode\" does not exist, so it couldn't have been installed. The library *unidecode*, however, DOES exist..."
   ]
  },
  {
   "cell_type": "markdown",
   "metadata": {},
   "source": [
    "Of course, in these instances, you will need to arrange to have libraries installed into the Notebook itself:"
   ]
  },
  {
   "cell_type": "code",
   "execution_count": null,
   "metadata": {
    "collapsed": false
   },
   "outputs": [],
   "source": [
    "import sys\n",
    "!{sys.executable} -m pip install unidecode"
   ]
  },
  {
   "cell_type": "code",
   "execution_count": null,
   "metadata": {
    "collapsed": false
   },
   "outputs": [],
   "source": [
    "from unidecode import unidecode\n",
    "text_string = \"Boris Villazón\"\n",
    "unidecode(text_string)"
   ]
  },
  {
   "cell_type": "markdown",
   "metadata": {},
   "source": [
    "Jupyter also maximizes portability by offering more sharing/distribution options. From the File menu in the notebook interface, you can export an entire notebook into several different filetypes:\n",
    "\n",
    "![save-as.png](save-as.png)\n",
    "<br />"
   ]
  },
  {
   "cell_type": "markdown",
   "metadata": {},
   "source": [
    "# 3) Great, Python and coding are cool, but what's a Notebook good for if I can just share a code/script with people?\n",
    "\n",
    "Glad you asked! Well, like I mentioned in the opening, Notebooks are a great way to both distribute results and verify that the data analysis methods work. Take, for example, [this *Nature* article](https://www.nature.com/articles/nmicrobiol2016177) that dog and human instances of inflammatory bowel disease rely on overlapping, yet distinct networks of microbial imbalance. The authors made the Notebooks (and most of the data) used to generate the results available [here](https://github.com/ElDeveloper/dogs).\n",
    "\n",
    "But it's also great for teaching people how to use coding software, such as the underlying Kernels, as well as features of software. For example, [this notebook](http://nbviewer.jupyter.org/github/jiffyclub/ipythonblocks/blob/master/demos/starry_night_to_text.ipynb) teaches users how to use the Python library [iPythonblocks](https://github.com/jiffyclub/ipythonblocks) to change images to text files containing data, like van Gough's Starry Night:\n",
    "\n",
    "![starry-night.png](starry-night.PNG)\n",
    "![starry-night2.png](starry-night2.png)"
   ]
  },
  {
   "cell_type": "markdown",
   "metadata": {},
   "source": [
    "But it's not just coding and stats that benefit fromt he notebook form! Long-form journalism and storytelling with data are great use-cases for the Jupyter Notebook.\n",
    "\n",
    "Have a look at [Brian Keegan's notebook on analyzing the Bechdel Test](http://nbviewer.jupyter.org/github/brianckeegan/Bechdel/blob/master/Bechdel_test.ipynb), an informal cultural observation about the speaking roles of female characters in films. Ostensibly about scraping data and analyzing it, Keegan also makes the point that \"Data Journalism should emulate the openness of science,\" and uses his notebook to prove it.\n",
    "\n",
    "And he's not wrong! Take a look at Christine Zang's fascinating post on *Source* that [shows all of the work that went into the data portion](https://source.opennews.org/articles/how-we-found-new-patterns-la-homeless-arrest/) of her [recent front-page *Los Angeles Times* story about rising arrests of homeless people](http://www.latimes.com/local/politics/la-me-homeless-arrests-20180204-story.html). Zhang and co-author Gale Holland made their work avaialble via GitHub as -- you guessed it! -- a [notebook](https://github.com/datadesk/homeless-arrests-analysis/blob/master/analysis.ipynb).\n",
    "\n",
    "But Zhang notes that the *Source* item is not a \"how we crunched the numbers\" post -- the Notebook covers the technical end. \"Instead,\" she writes, \"I'll tell you all about how we got the numbers, how we vetted the numbers, and, most importantly, how we found the story behind -- and beyond -- the numbers. It's the more complicated behind-the-scenes story, but it’s also (I hope) the more interesting one, because the data itself can only take you so far.\"\n",
    "\n",
    "Personally? I would LOVE to see a hybrid Notebook featuring her commentary as well as the code! But then, I do love me some long-form journalism."
   ]
  },
  {
   "cell_type": "markdown",
   "metadata": {
    "collapsed": true
   },
   "source": [
    "# 4) The Future\n",
    "\n",
    "In February of 2018, Jupyter [announced](https://blog.jupyter.org/jupyterlab-is-ready-for-users-5a6f039b8906) JupyterLab, the next-generation web-based interface for notebooks.\n",
    "\n",
    "> JupyterLab has full support for Jupyter notebooks. Additionally, JupyterLab enables you to use text editors, terminals, data file viewers, and other custom components side by side with notebooks in a tabbed work area.\n",
    "\n",
    "![1*O20XGvUOTLoFKQ9o20usIA.png](https://cdn-images-1.medium.com/max/800/1*O20XGvUOTLoFKQ9o20usIA.png)\n",
    "\n",
    "Basically, notebooks are probably going to be even more interactive in the future, as JupyterLab looks to incorporate:\n",
    "\n",
    "* Drag-and-drop reorder of notebook cells and copying them between notebooks\n",
    "* Run code blocks interactively from text files (.py, .R, .md, .tex, etc.)\n",
    "* Edit Markdown, JSON, CSV, etc. with live previews\n",
    "* New themes, file editors and viewers for richer outputs in notebooks\n",
    "* Community-developed extensions\n",
    "\n",
    "Jupyter plans to release JupyterLab 1.0 later in 2018, eventually replacing the Jupyter Notebook, though they claim the notebook document format will be supported by JupyterLab."
   ]
  },
  {
   "cell_type": "markdown",
   "metadata": {},
   "source": [
    "# MOAR RESOURCES!\n",
    "\n",
    "* Try Jupyter out right now, without installing anything: http://jupyter.org/try\n",
    "* Markdown for Jupyter Notebooks cheatsheet: https://medium.com/ibm-data-science-experience/markdown-for-jupyter-notebooks-cheatsheet-386c05aeebed\n",
    "* Turn a GitHub repo into a collection of interactive notebooks in an executable environment, making your code immediately reproducible everywhere: https://mybinder.org/"
   ]
  }
 ],
 "metadata": {
  "kernelspec": {
   "display_name": "Python 3",
   "language": "python",
   "name": "python3"
  },
  "language_info": {
   "codemirror_mode": {
    "name": "ipython",
    "version": 3
   },
   "file_extension": ".py",
   "mimetype": "text/x-python",
   "name": "python",
   "nbconvert_exporter": "python",
   "pygments_lexer": "ipython3",
   "version": "3.4.3"
  }
 },
 "nbformat": 4,
 "nbformat_minor": 0
}
