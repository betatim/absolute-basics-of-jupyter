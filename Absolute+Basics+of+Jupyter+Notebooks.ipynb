{
 "cells": [
  {
   "cell_type": "markdown",
   "metadata": {},
   "source": [
    "# The Absolute Basics of Jupyter Notebooks\n",
    "### By Scott Carlson, with acknowledgement to the work of [Abdullah Alrasheed](https://github.com/TwistedHardware/mltutorial) and his gracious GNU License"
   ]
  },
  {
   "cell_type": "markdown",
   "metadata": {},
   "source": [
    "# 1) The Basics\n",
    "## Jupyter is an web-based, interactive development environment. It supports multiple programming languages like Julia, Python and R (in alphabetical order).\n",
    "\n",
    "<img src=\"https://kenophobio.github.io/images/jupyter-main-logo.png\" style=\"width:50%; height:50%\">"
   ]
  },
  {
   "cell_type": "markdown",
   "metadata": {},
   "source": [
    "## Why is it called Jupyter?\n",
    "\n",
    "### Originally called IPython, the project provided an enhanced command-line console to run your Python code interactively.\n",
    "\n",
    "### Jupyter Notebooks are a newer, more sophisticated alternative to IPython that moves toward platform with multiple languages.\n",
    "\n",
    "### In Jupyter, \"Notebooks\" denote documents that contain both computer code and rich text elements, such as paragraphs, figures, links, and equations, making them both human-readable documents as well as executable code documents to perform data analysis.\n",
    "\n",
    "## *JU*lia + *PY*Thon + *R* = JUPYTER\n",
    "\n",
    "### This is not to indicate that jupyter only supports these languages... The complete list has more than [100 different languages](https://github.com/jupyter/jupyter/wiki/Jupyter-kernels)."
   ]
  },
  {
   "cell_type": "markdown",
   "metadata": {},
   "source": [
    "### But there is another reason...\n",
    "\n",
    "### Galileo documented observations about Jupiter's moons and published them in Sidereus Nuncius (Starry Messenger), a pamphlet, in 1610. This was the first published astronomy paper that used observations using a telescope, which implicitly (but not explicitly) proved the Copernican system of a sun, not the Earth, which other celestial bodies revolved around.\n",
    "<br />\n",
    "> \"I therefore concluded and decided unhesitatingly, that there are three stars in the heavens moving about Jupiter, as Venus and Mercury round the Sun; which at length was established as clear as daylight by numerous subsequent observations. These observations also established that there are not only three, but four, erratic sidereal bodies performing their revolutions round Jupiter...the revolutions are so swift that an observer may generally get differences of position every hour.\"\n",
    ">\n",
    "> Galileo Galilei\n",
    "\n",
    "<br />\n",
    "<img src=\"http://upload.wikimedia.org/wikipedia/commons/d/d0/Sidereus_Nuncius_Medicean_Stars.jpg\">\n",
    "<br />\n",
    "<center>Image(s) courtesy of the History of Science Collections, University of Oklahoma Libraries.</center>\n",
    "\n",
    "### Sharing these observations and conclusions in a way that can be replicated and verified inspired the modern scientific method. This is the essence of a Jupyter Notebook: sharing a complete process with others to verify and replicate results."
   ]
  },
  {
   "cell_type": "markdown",
   "metadata": {},
   "source": [
    "# Let's Jump in!\n",
    "\n",
    "## Go ahead and double click this text to see what happens.\n",
    "\n"
   ]
  },
  {
   "cell_type": "code",
   "execution_count": null,
   "metadata": {
    "collapsed": true
   },
   "outputs": [],
   "source": []
  },
  {
   "cell_type": "code",
   "execution_count": null,
   "metadata": {
    "collapsed": true
   },
   "outputs": [],
   "source": []
  }
 ],
 "metadata": {
  "kernelspec": {
   "display_name": "Python 3",
   "language": "python",
   "name": "python3"
  },
  "language_info": {
   "codemirror_mode": {
    "name": "ipython",
    "version": 3
   },
   "file_extension": ".py",
   "mimetype": "text/x-python",
   "name": "python",
   "nbconvert_exporter": "python",
   "pygments_lexer": "ipython3",
   "version": "3.4.3"
  }
 },
 "nbformat": 4,
 "nbformat_minor": 0
}
